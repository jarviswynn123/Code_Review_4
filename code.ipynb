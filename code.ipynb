{
 "cells": [
  {
   "cell_type": "code",
   "execution_count": null,
   "metadata": {},
   "outputs": [],
   "source": [
    "import pandas as pd\n",
    "\n",
    "songs = pd.read_csv(\"./data/dataset.csv\", header=0)\n",
    "\n",
    "display(songs.head())"
   ]
  },
  {
   "cell_type": "code",
   "execution_count": null,
   "metadata": {},
   "outputs": [],
   "source": [
    "print(songs[\"duration_ms\"].dtype) \n",
    "\n",
    "def milliseconds_to_minutes(value):\n",
    "    return value / 60000\n",
    "\n",
    "songs[\"duration_ms\"] = songs[\"duration_ms\"].map(milliseconds_to_minutes)\n",
    "# display(songs[\"duration_ms\"])\n",
    "\n",
    "songs.rename(columns={\"duration_ms\": \"minutes_played\"}, inplace=True)\n",
    "display(songs)"
   ]
  },
  {
   "cell_type": "code",
   "execution_count": 28,
   "metadata": {},
   "outputs": [
    {
     "data": {
      "text/plain": [
       "50"
      ]
     },
     "execution_count": 28,
     "metadata": {},
     "output_type": "execute_result"
    }
   ],
   "source": [
    "songs[\"artists\"].value_counts()[\"FKA twigs\"]"
   ]
  },
  {
   "cell_type": "code",
   "execution_count": 7,
   "metadata": {},
   "outputs": [
    {
     "data": {
      "text/plain": [
       "danceability  track_genre   \n",
       "0.000         ambient                  ambient\n",
       "              guitar                    guitar\n",
       "              iranian                  iranian\n",
       "              jazz                        jazz\n",
       "              opera                      opera\n",
       "                                     ...      \n",
       "0.981         kids                        kids\n",
       "0.982         minimal-techno    minimal-techno\n",
       "0.983         detroit-techno    detroit-techno\n",
       "0.984         kids                        kids\n",
       "0.985         trip-hop                trip-hop\n",
       "Name: track_genre, Length: 47317, dtype: object"
      ]
     },
     "metadata": {},
     "output_type": "display_data"
    }
   ],
   "source": [
    "max_danceability = songs.groupby([\"danceability\", \"track_genre\"]).track_genre.max()\n",
    "display(max_danceability)"
   ]
  },
  {
   "cell_type": "code",
   "execution_count": 49,
   "metadata": {},
   "outputs": [
    {
     "data": {
      "text/plain": [
       "(114000, 21)"
      ]
     },
     "execution_count": 49,
     "metadata": {},
     "output_type": "execute_result"
    }
   ],
   "source": [
    "songs.shape"
   ]
  },
  {
   "cell_type": "code",
   "execution_count": 52,
   "metadata": {},
   "outputs": [
    {
     "data": {
      "text/plain": [
       "(114000, 18)"
      ]
     },
     "execution_count": 52,
     "metadata": {},
     "output_type": "execute_result"
    }
   ],
   "source": [
    "songs = songs.drop(columns=[\"valence\", \"tempo\", \"time_signature\"])\n",
    "songs.shape"
   ]
  }
 ],
 "metadata": {
  "kernelspec": {
   "display_name": "venv",
   "language": "python",
   "name": "python3"
  },
  "language_info": {
   "codemirror_mode": {
    "name": "ipython",
    "version": 3
   },
   "file_extension": ".py",
   "mimetype": "text/x-python",
   "name": "python",
   "nbconvert_exporter": "python",
   "pygments_lexer": "ipython3",
   "version": "3.10.12"
  }
 },
 "nbformat": 4,
 "nbformat_minor": 2
}
